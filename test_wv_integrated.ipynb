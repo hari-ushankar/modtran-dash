{
 "cells": [
  {
   "cell_type": "code",
   "execution_count": 4,
   "metadata": {},
   "outputs": [
    {
     "data": {
      "text/plain": [
       "{'0.7': 'wvs_0_7_70_dir',\n",
       " '0.9': 'wvs_0_9_70_dir',\n",
       " '1.0': 'wvs_1_0_70_dir',\n",
       " '1.1': 'wvs_1_1_70_dir',\n",
       " '1.3': 'wvs_1_3_70_dir'}"
      ]
     },
     "execution_count": 4,
     "metadata": {},
     "output_type": "execute_result"
    }
   ],
   "source": [
    "import pandas as pd\n",
    "from pathlib import Path\n",
    "from matplotlib import pyplot as plt\n",
    "import json\n",
    "import numpy as np\n",
    "with open('toc_files_wvs.json','r') as infile:\n",
    "    wvs_dict = json.load(infile)\n",
    "wvs_dict"
   ]
  },
  {
   "cell_type": "code",
   "execution_count": 7,
   "metadata": {},
   "outputs": [],
   "source": [
    "pqfile = Path(wvs_dict['1.0']) / 'mol_prof.pq'"
   ]
  },
  {
   "cell_type": "code",
   "execution_count": 8,
   "metadata": {},
   "outputs": [],
   "source": [
    "df = pd.read_parquet(pqfile)"
   ]
  },
  {
   "cell_type": "code",
   "execution_count": 3,
   "metadata": {},
   "outputs": [],
   "source": [
    "def get_df(dir_path):\n",
    "    "
   ]
  },
  {
   "cell_type": "code",
   "execution_count": null,
   "metadata": {},
   "outputs": [],
   "source": [
    "def integrated_wv:\n",
    "    dir_path = Path(the_dir)\n",
    "    pqfile = dir_path / 'mol_prof.pq'\n",
    "    df = pd.read_parquet(pqfile)\n",
    "    dir_name = Path(wvs_dict[wvs])\n",
    "    df = get_df(dir_name)\n",
    "    R_dry = 287\n",
    "    R_v = 461\n",
    "\n",
    "    rho_v = df['h2o'].values*100/(R_v*df['t'].values)\n",
    "    pressure_diff = df['p'].values - df['h2o'].values\n",
    "\n",
    "    rho_dry = (pressure_diff)*100/(R_dry*df['t'].values)\n",
    "    mix_ratio = rho_v/rho_dry\n",
    "    mid_rhov = (rho_v[1:] + rho_v[:-1])/2.\n",
    "    col_wv = np.sum(mid_rhov*np.diff(df['z'].values))*100"
   ]
  },
  {
   "cell_type": "code",
   "execution_count": 4,
   "metadata": {},
   "outputs": [],
   "source": [
    "R_dry = 287\n",
    "R_v = 461\n",
    "\n",
    "rho_v = df['h2o'].values*100/(R_v*df['t'].values)\n",
    "pressure_diff = df['p'].values - df['h2o'].values\n",
    "\n",
    "rho_dry = (pressure_diff)*100/(R_dry*df['t'].values)\n",
    "mix_ratio = rho_v/rho_dry\n",
    "mid_rhov = (rho_v[1:] + rho_v[:-1])/2.\n",
    "col_wv = np.sum(mid_rhov*np.diff(df['z'].values))"
   ]
  },
  {
   "cell_type": "code",
   "execution_count": 6,
   "metadata": {},
   "outputs": [],
   "source": [
    "rho_v_2 = df2['h2o'].values*100/(R_v*df2['t'].values)\n",
    "pressure_diff2 = df2['p'].values - df2['h2o'].values\n",
    "\n",
    "rho_dry2 = (pressure_diff2)*100/(R_dry*df2['t'].values)\n",
    "mix_ratio2 = rho_v_2/rho_dry2"
   ]
  },
  {
   "cell_type": "code",
   "execution_count": 7,
   "metadata": {},
   "outputs": [],
   "source": [
    "mid_rhov2 = (rho_v_2[1:] + rho_v_2[:-1])/2.\n",
    "col_wv2 = np.sum(mid_rhov2*np.diff(df2['z'].values))"
   ]
  },
  {
   "cell_type": "code",
   "execution_count": 9,
   "metadata": {},
   "outputs": [
    {
     "data": {
      "text/plain": [
       "0.04094872212482961"
      ]
     },
     "execution_count": 9,
     "metadata": {},
     "output_type": "execute_result"
    }
   ],
   "source": [
    "col_wv2"
   ]
  },
  {
   "cell_type": "code",
   "execution_count": 11,
   "metadata": {},
   "outputs": [
    {
     "data": {
      "text/plain": [
       "1.1827625098174674"
      ]
     },
     "execution_count": 11,
     "metadata": {},
     "output_type": "execute_result"
    }
   ],
   "source": [
    "col_wv2/col_wv"
   ]
  },
  {
   "cell_type": "code",
   "execution_count": 12,
   "metadata": {},
   "outputs": [
    {
     "data": {
      "text/plain": [
       "1.1818181818181817"
      ]
     },
     "execution_count": 12,
     "metadata": {},
     "output_type": "execute_result"
    }
   ],
   "source": [
    "1.3/1.1"
   ]
  }
 ],
 "metadata": {
  "kernelspec": {
   "display_name": "dashboards",
   "language": "python",
   "name": "dashboards"
  },
  "language_info": {
   "codemirror_mode": {
    "name": "ipython",
    "version": 3
   },
   "file_extension": ".py",
   "mimetype": "text/x-python",
   "name": "python",
   "nbconvert_exporter": "python",
   "pygments_lexer": "ipython3",
   "version": "3.7.9"
  }
 },
 "nbformat": 4,
 "nbformat_minor": 2
}
